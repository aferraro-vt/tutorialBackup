{
  "cells": [
    {
      "cell_type": "markdown",
      "id": "84a6292b",
      "metadata": {
        "id": "84a6292b"
      },
      "source": [
        "<html>\n",
        "    <head>\n",
        "    <h2>Radio Frequency Data Generation</h2>\n",
        "    </head>\n",
        "    <body>\n",
        "    <p>The content of this tutorial was developed by Team 3 as part of an engineering project management class. Here we will discuss the first part of a three part series for creating a signal classification neural network. The goal of these tutorials is to walk the user through all the stages of creating a neural network capable of identifying the underlying communication modulation type and signal metrics.</p>\n",
        "    <p>Tutorial 1 focuses on generating training data utilizing the Python library modem provided by [our stakeholder]. The training data is generated automatically through the code produced below. In this tutorial we'll explain each portion of the code and remark on what each function achieves, why it is being used, and the greater context for signal generation and classification.</p>\n",
        "    </body>\n",
        "</html>"
      ]
    },
    {
      "cell_type": "markdown",
      "source": [
        "## Prerequisites\n",
        "\n",
        "**1. Basic Programming Knowledge:**\n",
        "Understanding of programming concepts and syntax in Python. Ability to write and execute code in a Python environment.\n",
        "\n",
        "**2. Python Environment Setup:**\n",
        "Python installed on the user's machine (preferably Python 3.x). Familiarity with Python's package manager pip to install libraries.\n",
        "\n",
        " Having Python set up with pip will enable to install these dependencies.\n",
        "\n",
        "**3. Knowledge of Python Libraries:**\n",
        "Experience with NumPy for numerical computing. Experience with Matplotlib for data visualization.\n",
        "\n",
        "\n",
        "NumPy is essential for handling arrays and matrices, which are fundamental in signal processing, while Matplotlib is used for plotting signals and visualizing data.\n",
        "\n",
        "**4. Signal Processing Basics:**\n",
        "Understanding of basic signal processing concepts. Familiarity with terms like modulation, signal-to-noise ratio (SNR), and Gaussian noise.\n",
        "\n",
        "\n",
        "The tutorial covers the generation and visualization of modulated signals, which are key concepts in signal processing. A foundational knowledge will help in comprehending the tutorial's content.\n",
        "\n",
        "**5. Mathematical Proficiency:**\n",
        "Comfort with mathematical concepts, particularly complex numbers and basic calculus.\n",
        "\n",
        "Signal processing often involves mathematics, and a good grasp of relevant math will help in understanding the manipulation and representation of signals.\n",
        "\n",
        "**6. Version Control Systems:**\n",
        "Basic understanding of Git and GitHub for code versioning and collaboration.\n",
        "\n",
        "**7. Integrated Development Environment (IDE) or Text Editor:**\n",
        "Familiarity with an IDE (like PyCharm, Visual Studio Code) or a text editor equipped for Python.\n",
        "\n",
        "**8. Google Colab or Jupyter Notebook Experience:**\n",
        "Experience with running Python notebooks in Google Colab or Jupyter Notebook if the tutorial is to be followed there.\n",
        "\n",
        "Now that we are abreast with the pre-requisites, we can start. To begin we will outline that python libraries used in this tutorial. We'll briefly explain their function and significance.\n"
      ],
      "metadata": {
        "id": "TAek94eumQ-M"
      },
      "id": "TAek94eumQ-M"
    },
    {
      "cell_type": "markdown",
      "id": "0f5f8dca",
      "metadata": {
        "id": "0f5f8dca"
      },
      "source": [
        "<html>\n",
        "    <body>\n",
        "        <b>Imports</b>\n",
        "        <p><i><b>import sys: </b>Allows Python to manipulate different parts of the its runtime interpreter.</i></p>\n",
        "        <p><i><b>numpy as np: </b>Allows Python to utilize a diverse collection of functions and data structures used for advanced math.</i></p>\n",
        "    </body>\n",
        "</html>"
      ]
    },
    {
      "cell_type": "code",
      "source": [
        "!rm -rf src\n",
        "!git clone https://github.com/aferraro-vt/src.git\n"
      ],
      "metadata": {
        "id": "AzZ_4A6SPmyG",
        "outputId": "abb9f027-e713-48bf-8746-c343db7e110b",
        "colab": {
          "base_uri": "https://localhost:8080/"
        }
      },
      "id": "AzZ_4A6SPmyG",
      "execution_count": null,
      "outputs": [
        {
          "output_type": "stream",
          "name": "stdout",
          "text": [
            "Cloning into 'src'...\n",
            "remote: Enumerating objects: 14, done.\u001b[K\n",
            "remote: Counting objects: 100% (14/14), done.\u001b[K\n",
            "remote: Compressing objects: 100% (12/12), done.\u001b[K\n",
            "remote: Total 14 (delta 2), reused 0 (delta 0), pack-reused 0\u001b[K\n",
            "Receiving objects: 100% (14/14), 10.82 KiB | 2.70 MiB/s, done.\n",
            "Resolving deltas: 100% (2/2), done.\n"
          ]
        }
      ]
    },
    {
      "cell_type": "code",
      "execution_count": null,
      "id": "3b1f7dcf",
      "metadata": {
        "id": "3b1f7dcf",
        "colab": {
          "base_uri": "https://localhost:8080/",
          "height": 403
        },
        "outputId": "15304811-354f-4ff7-ca6e-35c3724893d4"
      },
      "outputs": [
        {
          "output_type": "error",
          "ename": "ModuleNotFoundError",
          "evalue": "No module named 'modems'",
          "traceback": [
            "\u001b[0;31m---------------------------------------------------------------------------\u001b[0m",
            "\u001b[0;31mModuleNotFoundError\u001b[0m                       Traceback (most recent call last)",
            "\u001b[0;32m<ipython-input-1-f768ddbb03c8>\u001b[0m in \u001b[0;36m<cell line: 10>\u001b[0;34m()\u001b[0m\n\u001b[1;32m      8\u001b[0m \u001b[0;32mimport\u001b[0m \u001b[0mnumpy\u001b[0m \u001b[0;32mas\u001b[0m \u001b[0mnp\u001b[0m\u001b[0;34m\u001b[0m\u001b[0;34m\u001b[0m\u001b[0m\n\u001b[1;32m      9\u001b[0m \u001b[0;31m#import src.modems as modems\u001b[0m\u001b[0;34m\u001b[0m\u001b[0;34m\u001b[0m\u001b[0m\n\u001b[0;32m---> 10\u001b[0;31m \u001b[0;32mimport\u001b[0m \u001b[0mmodems\u001b[0m\u001b[0;34m\u001b[0m\u001b[0;34m\u001b[0m\u001b[0m\n\u001b[0m\u001b[1;32m     11\u001b[0m \u001b[0;32mimport\u001b[0m \u001b[0mmatplotlib\u001b[0m\u001b[0;34m.\u001b[0m\u001b[0mpyplot\u001b[0m \u001b[0;32mas\u001b[0m \u001b[0mplt\u001b[0m\u001b[0;34m\u001b[0m\u001b[0;34m\u001b[0m\u001b[0m\n\u001b[1;32m     12\u001b[0m \u001b[0;31m#import src.channels as channels\u001b[0m\u001b[0;34m\u001b[0m\u001b[0;34m\u001b[0m\u001b[0m\n",
            "\u001b[0;31mModuleNotFoundError\u001b[0m: No module named 'modems'",
            "",
            "\u001b[0;31m---------------------------------------------------------------------------\u001b[0;32m\nNOTE: If your import is failing due to a missing package, you can\nmanually install dependencies using either !pip or !apt.\n\nTo view examples of installing some common dependencies, click the\n\"Open Examples\" button below.\n\u001b[0;31m---------------------------------------------------------------------------\u001b[0m\n"
          ],
          "errorDetails": {
            "actions": [
              {
                "action": "open_url",
                "actionText": "Open Examples",
                "url": "/notebooks/snippets/importing_libraries.ipynb"
              }
            ]
          }
        }
      ],
      "source": [
        "###########\n",
        "# IMPORTS #\n",
        "###########\n",
        "#\n",
        "\n",
        "import sys\n",
        "sys.path.append(\"/content/src/src\")\n",
        "import numpy as np\n",
        "#import src.modems as modems\n",
        "import modems\n",
        "import matplotlib.pyplot as plt\n",
        "#import src.channels as channels\n",
        "import channels\n",
        "from scipy.stats import norm\n",
        "from scipy.special import erfc"
      ]
    },
    {
      "cell_type": "markdown",
      "id": "d3544e7b",
      "metadata": {
        "id": "d3544e7b"
      },
      "source": [
        "<html>\n",
        "    <body>\n",
        "        <b>Utility Functions</b>\n",
        "        <p>The following section of functions below are a collection of functions that contain trivial code to generate the plots above. These are not important or novel, however the code is reproduced below for the benefit of the reader.</p>\n",
        "    </body>\n",
        "        \n",
        "</html>"
      ]
    },
    {
      "cell_type": "code",
      "execution_count": null,
      "id": "f714f0ea",
      "metadata": {
        "id": "f714f0ea"
      },
      "outputs": [],
      "source": [
        "#############\n",
        "# FUNCTIONS #\n",
        "#############\n",
        "#\n",
        "# Basic plot function\n",
        "def plotSignal(signal):\n",
        "\n",
        "    # Initialize figure\n",
        "    plt.figure(figsize=(5.0, 5.0))\n",
        "    plt.title('Symbol Constellation Plot', fontsize=20)\n",
        "    plt.xlabel('In-Phase Symbol Component')\n",
        "    plt.ylabel('Quadrature Symbol Component')\n",
        "\n",
        "    # Set figure limits\n",
        "    plt.xlim([-2.0, 2.0])\n",
        "    plt.ylim([-2.0, 2.0])\n",
        "\n",
        "    # Set grids for plot\n",
        "    plt.grid();\n",
        "\n",
        "    # Plot parts of the signal on the figure\n",
        "    for i,x in enumerate(signal.symb_table):\n",
        "        plt.annotate(format(i, '01b'), xy=[x.real, x.imag], xytext=[-15.0, -15.0], textcoords='offset points')\n",
        "        plt.plot(x.real, x.imag, '*')\n",
        "\n",
        "    plt.show()\n",
        "\n",
        "def plotCosinePulsesReal(pulses, samples, totalSamples):\n",
        "\n",
        "    # Initialize figure\n",
        "    plt.figure(figsize=(5.0, 5.0))\n",
        "    plt.title('In-Phase Component of Generated Raised Cosine Signal', fontsize=20)\n",
        "    plt.ylabel('Amplitude')\n",
        "    plt.xlabel('Sample Number')\n",
        "\n",
        "    # Set figure limits\n",
        "    plt.ylim([-1.0, 1.0])\n",
        "\n",
        "    # Set grids for plot\n",
        "    plt.grid();\n",
        "\n",
        "    # Plot real portions of raised cosine pulses\n",
        "    plt.plot(pulses.real, '-*')\n",
        "    plt.stem(np.arange(samples,(totalSamples+1)*samples,samples), pulses[samples:(totalSamples+1)*samples:samples].real, linefmt='--r', markerfmt='ro')\n",
        "\n",
        "    plt.show()\n",
        "\n",
        "def plotCosinePulsesImaginary(pulses, samples, totalSamples):\n",
        "\n",
        "    # Initialize figure\n",
        "    plt.figure(figsize=(5.0, 5.0))\n",
        "    plt.title('Quadrature Component of Generated Raised Cosine Signal', fontsize=20)\n",
        "    plt.ylabel('Amplitude')\n",
        "    plt.xlabel('Sample Number')\n",
        "\n",
        "    # Set figure limits\n",
        "    plt.ylim([-1.0, 1.0])\n",
        "\n",
        "    # Set grids for plot\n",
        "    plt.grid();\n",
        "\n",
        "    # Plot real portions of raised cosine pulses\n",
        "    plt.plot(pulses.imag, '-*')\n",
        "    plt.stem(np.arange(samples,(totalSamples+1)*samples,samples), pulses[samples:(totalSamples+1)*samples:samples].real, linefmt='--r', markerfmt='ro')\n",
        "\n",
        "    plt.show()\n",
        "\n",
        "def plotCarrierModulationReal(modulated, samples, totalSamples):\n",
        "\n",
        "    # Initialize figure\n",
        "    plt.figure(figsize=(5.0, 5.0))\n",
        "    plt.title('In-Phase Component of Carrier Modulated Signal', fontsize=20)\n",
        "    plt.ylabel('Amplitude')\n",
        "    plt.xlabel('Sample Number')\n",
        "\n",
        "    # Set figure limits\n",
        "    plt.ylim([-1.0, 1.0])\n",
        "\n",
        "    # Set grids for plot\n",
        "    plt.grid();\n",
        "\n",
        "    plotAmount = totalSamples * samples\n",
        "    plt.plot(modulated[0:plotAmount].real, '-*')\n",
        "    plt.show()\n",
        "\n",
        "def plotCarrierModulationImaginary(modulated, samples, totalSamples):\n",
        "\n",
        "    # Initialize figure\n",
        "    plt.figure(figsize=(5.0, 5.0))\n",
        "    plt.title('Quadrature Component of Carrier Modulated Signal', fontsize=20)\n",
        "    plt.ylabel('Amplitude')\n",
        "    plt.xlabel('Sample Number')\n",
        "\n",
        "    # Set figure limits\n",
        "    plt.ylim([-1.0, 1.0])\n",
        "\n",
        "    # Set grids for plot\n",
        "    plt.grid();\n",
        "\n",
        "    plotAmount = totalSamples * samples\n",
        "    plt.plot(modulated[0:plotAmount].imag, '-*')\n",
        "    plt.show()\n",
        "\n",
        "def plotCosinePulsesReal(pulses, samples, totalSamples):\n",
        "\n",
        "    # Initialize figure\n",
        "    plt.figure(figsize=(5.0, 5.0))\n",
        "    plt.title('In-Phase Component of Generated Raised Cosine Signal', fontsize=20)\n",
        "    plt.ylabel('Amplitude')\n",
        "    plt.xlabel('Sample Number')\n",
        "\n",
        "    # Set figure limits\n",
        "    plt.ylim([-1.0, 1.0])\n",
        "\n",
        "    # Set grids for plot\n",
        "    plt.grid();\n",
        "\n",
        "    # Plot real portions of raised cosine pulses\n",
        "    plt.plot(pulses.real, '-*')\n",
        "    plt.stem(np.arange(samples,(totalSamples+1)*samples,samples), pulses[samples:(totalSamples+1)*samples:samples].real, linefmt='--r', markerfmt='ro')\n",
        "\n",
        "    plt.show()\n",
        "\n",
        "def plotCosinePulsesImaginary(pulses, samples, totalSamples):\n",
        "\n",
        "    # Initialize figure\n",
        "    plt.figure(figsize=(5.0, 5.0))\n",
        "    plt.title('Quadrature Component of Generated Raised Cosine Signal', fontsize=20)\n",
        "    plt.ylabel('Amplitude')\n",
        "    plt.xlabel('Sample Number')\n",
        "\n",
        "    # Set figure limits\n",
        "    plt.ylim([-1.0, 1.0])\n",
        "\n",
        "    # Set grids for plot\n",
        "    plt.grid();\n",
        "\n",
        "    # Plot real portions of raised cosine pulses\n",
        "    plt.plot(pulses.imag, '-*')\n",
        "    plt.stem(np.arange(samples,(totalSamples+1)*samples,samples), pulses[samples:(totalSamples+1)*samples:samples].real, linefmt='--r', markerfmt='ro')\n",
        "\n",
        "    plt.show()\n",
        "\n",
        "def plotFourierTransform(pulses):\n",
        "\n",
        "    # Variables\n",
        "    fs = 1.0\n",
        "    nfft = 256\n",
        "\n",
        "    plt.psd(pulses, NFFT=nfft, Fs=fs, label='Power Spectral Density')\n",
        "\n",
        "    plt.show()\n",
        "\n",
        "def plotCarrierModulationReal(modulated, samples, totalSamples):\n",
        "\n",
        "    # Initialize figure\n",
        "    plt.figure(figsize=(5.0, 5.0))\n",
        "    plt.title('In-Phase Component of Carrier Modulated Signal', fontsize=20)\n",
        "    plt.ylabel('Amplitude')\n",
        "    plt.xlabel('Sample Number')\n",
        "\n",
        "    # Set figure limits\n",
        "    plt.ylim([-1.0, 1.0])\n",
        "\n",
        "    # Set grids for plot\n",
        "    plt.grid();\n",
        "\n",
        "    plotAmount = totalSamples * samples\n",
        "    plt.plot(modulated[0:plotAmount].real, '-*')\n",
        "    plt.show()\n",
        "\n",
        "def plotCarrierModulationImaginary(modulated, samples, totalSamples):\n",
        "\n",
        "    # Initialize figure\n",
        "    plt.figure(figsize=(5.0, 5.0))\n",
        "    plt.title('Quadrature Component of Carrier Modulated Signal', fontsize=20)\n",
        "    plt.ylabel('Amplitude')\n",
        "    plt.xlabel('Sample Number')\n",
        "\n",
        "    # Set figure limits\n",
        "    plt.ylim([-1.0, 1.0])\n",
        "\n",
        "    # Set grids for plot\n",
        "    plt.grid();\n",
        "\n",
        "    plotAmount = totalSamples * samples\n",
        "    plt.plot(modulated[0:plotAmount].imag, '-*')\n",
        "    plt.show()\n",
        "\n",
        "def plotDemodulate(receiver, original):\n",
        "\n",
        "    # Initialize plot\n",
        "    plt.title('Symbol Constellation Plot')\n",
        "    plt.xlabel('In-Phase Symbol Component')\n",
        "    plt.ylabel('Quadrature Symbol Component')\n",
        "    plt.grid()\n",
        "\n",
        "    # Limits on plot\n",
        "    plt.xlim([-2.0, 2.0])\n",
        "    plt.ylim([-2.0, 2.0])\n",
        "\n",
        "    # Plot\n",
        "    plt.plot(receiver.real, receiver.imag, 'b*')\n",
        "    plt.plot(original.symb_table.real, original.symb_table.imag, 'r*')\n",
        "    plt.show()"
      ]
    },
    {
      "cell_type": "markdown",
      "id": "6b31dd25",
      "metadata": {
        "id": "6b31dd25"
      },
      "source": [
        "<html>\n",
        "    <body>\n",
        "        <b>Amplitude Shift Keying (ASK)</b>\n",
        "        <p>Amplitude shift keying is a form of signal modulation that encodes digital data as variations of the amplitude of a carrier wave. No changes are made to phase as information is encoded. This is type of modulation is one of the most basic forms of information encoding for an RF signal.</p>\n",
        "       <p>\n",
        "       Amplitude can be modulated in various \"orders.\" The number of the order represents the amount of symbols that can be encoded in a single period of an encoded signal. This means a signal with amplitude modulation with an order of 8 can encode 8 unique symbols in a single period. These symbols are a unique string of bits (e.g. 000, 001, 010, 011, ...)\n",
        "       </p>\n",
        "    </body>\n",
        "        \n",
        "</html>"
      ]
    },
    {
      "cell_type": "code",
      "execution_count": null,
      "id": "9c1da253",
      "metadata": {
        "id": "9c1da253",
        "outputId": "dcd35e9a-071d-4b41-9885-523b3f35e9bb",
        "colab": {
          "base_uri": "https://localhost:8080/",
          "height": 1000
        }
      },
      "outputs": [
        {
          "output_type": "display_data",
          "data": {
            "text/plain": [
              "<Figure size 500x500 with 1 Axes>"
            ],
            "image/png": "[encoded data removed]"
          },
          "metadata": {}
        },
        {
          "output_type": "display_data",
          "data": {
            "text/plain": [
              "<Figure size 500x500 with 1 Axes>"
            ],
            "image/png": "[encoded data removed]"
          },
          "metadata": {}
        },
        {
          "output_type": "display_data",
          "data": {
            "text/plain": [
              "<Figure size 500x500 with 1 Axes>"
            ],
            "image/png": "[encoded data removed]"
          },
          "metadata": {}
        }
      ],
      "source": [
        "################################\n",
        "# AMPLITUDE SHIFT KEYING (ASK) #\n",
        "################################\n",
        "#\n",
        "ask_2 = modems.ldapm(mod_type='ask', mod_order=2)\n",
        "ask_4 = modems.ldapm(mod_type='ask', mod_order=4)\n",
        "ask_8 = modems.ldapm(mod_type='ask', mod_order=8)\n",
        "\n",
        "plotSignal(ask_2)\n",
        "plotSignal(ask_4)\n",
        "plotSignal(ask_8)"
      ]
    },
    {
      "cell_type": "markdown",
      "id": "8455cb3e",
      "metadata": {
        "id": "8455cb3e"
      },
      "source": [
        "<html>\n",
        "    <body>\n",
        "        <b>Phase Shift Keying (PSK)</b>\n",
        "        <p>Phase shift keying is a form of signal modulation that encodes digital data as variations of the phase of a carrier wave. No changes are made to amplitude as information is encoded. Phase modulation, in contrast to amplitude modulation, is more immune to noise and often produces high quality results at the receiver.</p>\n",
        "       <p>\n",
        "       Similar to amplitude modulation, phase modulation can be modulated in various \"orders.\" The number of the order represents the amount of symbols that can be encoded in a single period of an encoded signal.\n",
        "       </p>\n",
        "    </body>\n",
        "        \n",
        "</html>"
      ]
    },
    {
      "cell_type": "code",
      "execution_count": null,
      "id": "61bf6d9a",
      "metadata": {
        "id": "61bf6d9a"
      },
      "outputs": [],
      "source": [
        "############################\n",
        "# PHASE SHIFT KEYING (PSK) #\n",
        "############################\n",
        "#\n",
        "psk_2 = modems.ldapm(mod_type='psk', mod_order=2)\n",
        "psk_4 = modems.ldapm(mod_type='psk', mod_order=4)\n",
        "psk_8 = modems.ldapm(mod_type='psk', mod_order=8)\n",
        "\n",
        "plotSignal(psk_2)\n",
        "plotSignal(psk_4)\n",
        "plotSignal(psk_8)"
      ]
    },
    {
      "cell_type": "markdown",
      "id": "06a41b55",
      "metadata": {
        "id": "06a41b55"
      },
      "source": [
        "<html>\n",
        "    <body>\n",
        "        <b>Quadrature Amplitude Modulation (QAM)</b>\n",
        "        <p>Quadrature amplitude modulation is a form of signal modulation that encodes digital data as variations of the amplitude and phase of a carrier wave. Quadrature amplitude modulation encodes the information into the amplitude of two seperate carrier waves. It then shifts the phase of one of those waves by 90 degrees. The two waves are then added together. Due to the variation of phase and amplitude the amount of information encoded is far more than amplitude or phase modulation alone.</p>\n",
        "       <p>\n",
        "       Similar to both amplitude modulation and phase modulation, quadrature amplitude modulation can be modulated in various \"orders.\" The number of the order represents the amount of symbols that can be encoded in a single period of an encoded signal.\n",
        "       </p>\n",
        "    </body>\n",
        "        \n",
        "</html>"
      ]
    },
    {
      "cell_type": "code",
      "execution_count": null,
      "id": "c0d2ce5f",
      "metadata": {
        "id": "c0d2ce5f"
      },
      "outputs": [],
      "source": [
        "###################################\n",
        "# QUADRATURE AMPLITUDE MODULATION #\n",
        "###################################\n",
        "#\n",
        "qam_8  = modems.ldapm(mod_type='qam', mod_order=8)\n",
        "qam_16 = modems.ldapm(mod_type='qam', mod_order=16)\n",
        "qam_64 = modems.ldapm(mod_type='qam', mod_order=64)\n",
        "\n",
        "plotSignal(qam_8)\n",
        "plotSignal(qam_16)\n",
        "plotSignal(qam_64)"
      ]
    },
    {
      "cell_type": "markdown",
      "id": "01e919e3",
      "metadata": {
        "id": "01e919e3"
      },
      "source": [
        "<html>\n",
        "    <body>\n",
        "        <b>Modulation and Encoding</b>\n",
        "        <p>The below function <b><i>modems.ldapm</i></b> generates the signal data structure as shown above. This defines the type of modulation and the order that is being used. Thereafter a built in function that's part of the signal's data structure <b><i>gen_symbs(x)</i></b> generates a random string of symbols that is of size <b><i>x</b></i>. This is equivalent to a random series of bits.</p>\n",
        "        <p>Thereafter the random series of symbols is encoded into an equivalent cosine signal by utilizing the <b><i>get_samps(randomSymbols)</b></i> function. This function automatically generates a cosine wave that is the sum of two modulated amplitude signals. This function would perform a similarly if amplitude modulation or phase modulation were selected. In this example only 10 symbols are encoded and as such the resultant cosine signal remains small. However, this can be extended to a signal with a surplus of symbols if the variable <i><b>x</b></i> is changed.</p>\n",
        "        <p>In order to see how the cosine signal distributes energy over the set of frequencies a fourier transform is performed below as well. This is not relevant for generating training data, however it is reproduced below as a supplement to the tutorials content.</p>\n",
        "        <p><b>Disclaimer</b></p>\n",
        "        <p>For the remainder of the tutorial we will use a quadrature amplitude modulated signal with an order of 16. This choice is arbitrary, and changing the below code to support different types of modulation and order is trivial. By changing the modulation variable to 'ask' or 'psk' and setting the order is all that needs to be done to reproduce the results below for other signals.</p>\n",
        "    </body>\n",
        "        \n",
        "</html>"
      ]
    },
    {
      "cell_type": "code",
      "execution_count": null,
      "id": "5c2ad6fd",
      "metadata": {
        "id": "5c2ad6fd"
      },
      "outputs": [],
      "source": [
        "####################\n",
        "# LDAPM GENERATION #\n",
        "####################\n",
        "#\n",
        "# Variables that can be changed\n",
        "modulation = 'qam'\n",
        "order = 16\n",
        "\n",
        "# Generation Variables that are changed but left alone in the tutorial\n",
        "samples = 10\n",
        "x = 10\n",
        "beta = 0.75\n",
        "span = 10\n",
        "totalSamples = 10\n",
        "\n",
        "# Generate random message to send\n",
        "qam_16 = modems.ldapm(sps=samples, mod_type=modulation, mod_order=order, filt_type='rc', beta=beta, span=span, trim=1)\n",
        "randomSymbols = qam_16.gen_symbs(x) # Amount of total symbols\n",
        "\n",
        "# Turn random samples into Raised Cosine Pulses\n",
        "pulses = qam_16.get_samps(randomSymbols)\n",
        "\n",
        "# Plot cosine pulses real component\n",
        "plotCosinePulsesReal(pulses, samples, totalSamples)\n",
        "\n",
        "# Plot cosine pulses imaginary component\n",
        "plotCosinePulsesImaginary(pulses, samples, totalSamples)\n",
        "\n",
        "# Plot Power Spectral Density\n",
        "plotFourierTransform(pulses)"
      ]
    },
    {
      "cell_type": "markdown",
      "id": "c19b3fa9",
      "metadata": {
        "id": "c19b3fa9"
      },
      "source": [
        "<html>\n",
        "    <body>\n",
        "        <b>Carrier Modulation</b>\n",
        "        <p>Before transmitting the signal must be first modulated by the carrier frequency. The carrier frequency is the base frequency that is encoded with information by the generated cosine signal shown above. The carrier frequency is usually a higher frequency then the raised cosine signal. However, the value of the carrier frequency is arbitrary and can be set to nearly any value. In this example we have a carrier frequency of 10 Hz.</p>\n",
        "        <p>After being modulated by the carrier frequency the signal is ready to be transmitted. This ready to transmit signal is reproduced below in the following figures.</p>\n",
        "        <p>We have reproduced a circuit diagram below to showcase the place of the carrier frequency in a generated quadrature amplitude modulated signal as a reference.</p>\n",
        "        <img src=\"https://www.ednasia.com/wp-content/uploads/sites/3/2020/04/Witte_blog11_QM_Fig2_Quadrature_modulator.png\">\n",
        "    </body>\n",
        "        \n",
        "</html>"
      ]
    },
    {
      "cell_type": "code",
      "execution_count": null,
      "id": "216e1b70",
      "metadata": {
        "id": "216e1b70"
      },
      "outputs": [],
      "source": [
        "# Carrier Frequency\n",
        "carrierFreq = 0.1\n",
        "\n",
        "# Modulate with the carrier signal\n",
        "modulated = channels.freq_off(pulses, carrierFreq)\n",
        "\n",
        "# Plot modulated real portion\n",
        "plotCarrierModulationReal(modulated, samples, totalSamples)\n",
        "\n",
        "# Plot modulated imaginary portion\n",
        "plotCarrierModulationImaginary(modulated, samples, totalSamples)"
      ]
    },
    {
      "cell_type": "markdown",
      "id": "bd2b79db",
      "metadata": {
        "id": "bd2b79db"
      },
      "source": [
        "<html>\n",
        "    <body>\n",
        "        <b>Gaussian Noise</b>\n",
        "        <p>All signals have innate noise that occurs on the RF front end of the receiver. To simulate this, gaussian noise is added to the modulated signal utilizing the <b><i>channels.awgn</i></b> function. The <b><i>awgn</i></b> function is a Python fuction that implements an Additive White Gaussian Noise (AWGN) model - a simple noise model that is commonly used in simulating communication systems.</p>\n",
        "    </body>\n",
        "</html>"
      ]
    },
    {
      "cell_type": "code",
      "execution_count": null,
      "id": "14a1e76a",
      "metadata": {
        "id": "14a1e76a"
      },
      "outputs": [],
      "source": [
        "# SNR ratio\n",
        "snr = 10\n",
        "\n",
        "# Adding noise\n",
        "pulsesWithNoise = channels.awgn(pulses, snr, 1.0)\n",
        "\n",
        "# Plot signals with nosie, plot real\n",
        "plotCosinePulsesReal(pulsesWithNoise, samples, totalSamples)\n",
        "\n",
        "# Plot signals with nosie, plot imaginary\n",
        "plotCosinePulsesImaginary(pulsesWithNoise, samples, totalSamples)\n",
        "\n",
        "# Get the original symbols\n",
        "receiver = qam_16.get_symbs(pulsesWithNoise)"
      ]
    },
    {
      "cell_type": "markdown",
      "source": [
        "## Understanding Signal-to-Noise Ratio (SNR)\n",
        "\n",
        "### Why is SNR Important?\n",
        "\n",
        "The SNR determines how well a signal can be detected or decoded from noise, which exists in all communication systems. Understanding how to manipulate and measure SNR can greatly enhance the performance of a system by improving accuracy and reliability.\n",
        "\n",
        "The code will demonstrate:\n",
        "- **Generate a Basic Signal**: We will create a simple sinusoidal signal which represents a clean, unobstructed transmission.\n",
        "- **Introduce Noise**: Add varying levels of Gaussian noise to simulate real-world conditions.\n",
        "- **Visualize the Impact**: Using a slider, you will adjust the SNR value and observe how it affects the signal visually. This will help you understand the practical implications of SNR in signal processing.\n"
      ],
      "metadata": {
        "id": "LI-kf_crv2XJ"
      },
      "id": "LI-kf_crv2XJ"
    },
    {
      "cell_type": "code",
      "source": [
        "# Import necessary libraries\n",
        "import numpy as np\n",
        "import matplotlib.pyplot as plt\n",
        "\n",
        "# Define a function to generate a basic signal\n",
        "def generate_signal(freq, amplitude, time, phase):\n",
        "    return amplitude * np.sin(2 * np.pi * freq * time + phase)\n",
        "\n",
        "# Define a function to add noise to the signal\n",
        "def add_noise(signal, snr):\n",
        "    # Convert SNR from dB to a linear ratio\n",
        "    snr_linear = 10 ** (snr / 10)\n",
        "    # Calculate signal power and the required noise power for the given SNR\n",
        "    signal_power = np.mean(np.abs(signal) ** 2)\n",
        "    noise_power = signal_power / snr_linear\n",
        "    # Generate noise with the calculated power\n",
        "    noise = np.sqrt(noise_power) * np.random.normal(size=signal.shape)\n",
        "    return signal + noise\n",
        "\n",
        "# Define parameters for the signal\n",
        "frequency = 1.0  # frequency of the signal\n",
        "amplitude = 1.0  # amplitude of the signal\n",
        "time = np.linspace(0, 1, 500)  # time vector\n",
        "phase = 0  # phase of the signal\n",
        "\n",
        "# Generate the signal\n",
        "clean_signal = generate_signal(frequency, amplitude, time, phase)\n",
        "\n",
        "# Interactive plot setup\n",
        "from ipywidgets import interact, FloatSlider\n",
        "\n",
        "def plot_signal(snr=10):\n",
        "    noisy_signal = add_noise(clean_signal, snr)\n",
        "    plt.figure(figsize=(10, 4))\n",
        "    plt.plot(time, clean_signal, label='Clean Signal')\n",
        "    plt.plot(time, noisy_signal, label='Noisy Signal', color='r')\n",
        "    plt.title(f\"Signal with SNR = {snr} dB\")\n",
        "    plt.xlabel(\"Time\")\n",
        "    plt.ylabel(\"Amplitude\")\n",
        "    plt.legend()\n",
        "    plt.grid(True)\n",
        "    plt.show()\n",
        "\n",
        "# Create an interactive slider for SNR\n",
        "interact(plot_signal, snr=FloatSlider(value=10, min=0, max=50, step=1, description='SNR (dB)'));\n"
      ],
      "metadata": {
        "id": "DrIGGdkiwYts"
      },
      "id": "DrIGGdkiwYts",
      "execution_count": null,
      "outputs": []
    },
    {
      "cell_type": "markdown",
      "id": "25da47d7",
      "metadata": {
        "id": "25da47d7"
      },
      "source": [
        "<html>\n",
        "    <body>\n",
        "        <b>Increasing Encoded Symbols</b>\n",
        "        <p>In order for the neural network to classify and distinguish signals, for each signal we will be increasing the amount of randomly encoded symbols it transmits. By increasing the amount of randomly encoded symbols, the samples offset by the gaussian noise will cluster around a center point indexed by the quadrature symbol component and the in-phase component. This clustering can be labeled and classified - allowing the neural network the ability to distinguish between the type of modulation and the order of the modulation.</p>\n",
        "    </body>\n",
        "</html>"
      ]
    },
    {
      "cell_type": "code",
      "execution_count": null,
      "id": "d80d4926",
      "metadata": {
        "id": "d80d4926"
      },
      "outputs": [],
      "source": [
        "# Variables\n",
        "modulation = 'qam'\n",
        "order = 4\n",
        "samples = 10\n",
        "totalSamples = 10000\n",
        "\n",
        "# Generate random message to send\n",
        "qam_16 = modems.ldapm(sps=samples, mod_type=modulation, mod_order=order, filt_type='rc', beta=beta, span=span, trim=1)\n",
        "randomSymbols = qam_16.gen_symbs(totalSamples) # Amount of total symbols\n",
        "\n",
        "# Turn random samples into Raised Cosine Pulses\n",
        "pulses = qam_16.get_samps(randomSymbols)\n",
        "\n",
        "# SNR ratio\n",
        "snr = 10\n",
        "\n",
        "# Adding noise\n",
        "pulsesWithNoise = channels.awgn(pulses, snr, 1.0)\n",
        "\n",
        "# Plot signals with nosie, plot real\n",
        "plotCosinePulsesReal(pulsesWithNoise, samples, totalSamples)\n",
        "\n",
        "# Plot signals with nosie, plot imaginary\n",
        "plotCosinePulsesImaginary(pulsesWithNoise, samples, totalSamples)\n",
        "\n",
        "# Get the original symbols\n",
        "receiver = qam_16.get_symbs(pulsesWithNoise)\n",
        "\n",
        "# Plots the demodulated signal\n",
        "plotDemodulate(receiver, qam_16)"
      ]
    },
    {
      "cell_type": "markdown",
      "id": "01639b42",
      "metadata": {
        "id": "01639b42"
      },
      "source": [
        "<html>\n",
        "    <body>\n",
        "        <b>Generating Training Data</b>\n",
        "        <p>In order to generate training data, we created some easy to understand functions that generate 48,000 unique signals that contain 10,000 symbols each. The amount of unique signals that can be generated can be modified, and the next tutorial uses a smaller amount of signals to train the model than the amount used in this tutorial.</p>\n",
        "        <p>The composition of the training data is 16,000 unique signals for each modulation type (ASK, PSK, QAM) in which each 16,000 is composed of 1,000 signals for each modulation order from 1 to 16.\n",
        "    </body>\n",
        "</html>"
      ]
    },
    {
      "cell_type": "code",
      "execution_count": null,
      "id": "c32afeff",
      "metadata": {
        "id": "c32afeff",
        "colab": {
          "base_uri": "https://localhost:8080/"
        },
        "outputId": "2723f78f-2f44-411f-a20b-87d62ddf588e"
      },
      "outputs": [
        {
          "metadata": {
            "tags": null
          },
          "name": "stdout",
          "output_type": "stream",
          "text": [
            "START GENERATION\n",
            "FINISH PSK\n"
          ]
        },
        {
          "metadata": {
            "tags": null
          },
          "name": "stderr",
          "output_type": "stream",
          "text": [
            "/content/src/src/modems.py:31: RuntimeWarning: invalid value encountered in divide\n",
            "  self.symb_table = np.divide(self.symb_table, np.mean(np.abs(self.symb_table)**2.0)**(1.0/2.0))\n"
          ]
        },
        {
          "output_type": "stream",
          "name": "stdout",
          "text": [
            "FINISH ASK\n"
          ]
        }
      ],
      "source": [
        "def generateSignalWithNoise(modulationType, order, samples, totalSamples):\n",
        "\n",
        "    beta = 0.75\n",
        "    span = 10\n",
        "\n",
        "    # Variables\n",
        "    samples = 10\n",
        "    totalSamples = 10000\n",
        "\n",
        "    # Generate clean signal\n",
        "    signal = modems.ldapm(sps=samples, mod_type=modulationType, mod_order=order, filt_type='rc', beta=beta, span=span, trim=1)\n",
        "\n",
        "    # Generate random symbols to encode\n",
        "    randomSymbols = signal.gen_symbs(totalSamples) # Amount of total symbols\n",
        "\n",
        "    # Turn random samples into Raised Cosine Pulses\n",
        "    pulses = psk_4.get_samps(randomSymbols)\n",
        "\n",
        "    # SNR ratio\n",
        "    snr = 10\n",
        "\n",
        "    # Adding noise\n",
        "    pulsesWithNoise = channels.awgn(pulses, snr, 1.0)\n",
        "\n",
        "    return pulsesWithNoise\n",
        "\n",
        "def generateSignalBulk(signalDict, modulationType, maxOrder, maxIteration, samples, totalSamples):\n",
        "\n",
        "    for order in range(1, maxOrder):\n",
        "\n",
        "        for i in range(0, maxIteration):\n",
        "\n",
        "            key = (modulationType, order, i)\n",
        "\n",
        "            signalDict[key] = generateSignalWithNoise(modulationType, order, samples, totalSamples)\n",
        "\n",
        "    return signalDict\n",
        "\n",
        "def generateAllSignals():\n",
        "\n",
        "    # Variables\n",
        "    samples = 10\n",
        "    totalSamples = 10000\n",
        "\n",
        "    # Iteration Variables\n",
        "    signalDict = {}\n",
        "    maxIteration = 1000\n",
        "\n",
        "    print(\"START GENERATION\")\n",
        "\n",
        "    signalDict = generateSignalBulk(signalDict, 'psk', 16, maxIteration, samples, totalSamples)\n",
        "\n",
        "    print(\"FINISH PSK\")\n",
        "\n",
        "    signalDict = generateSignalBulk(signalDict, 'ask', 16, maxIteration, samples, totalSamples)\n",
        "\n",
        "    print(\"FINISH ASK\")\n",
        "\n",
        "    signalDict = generateSignalBulk(signalDict, 'qam', 16, maxIteration, samples, totalSamples)\n",
        "\n",
        "    print(\"FINISH QAM\")\n",
        "\n",
        "    print(signalDict)\n",
        "\n",
        "generateAllSignals()"
      ]
    },
    {
      "cell_type": "code",
      "execution_count": null,
      "id": "b63819cc",
      "metadata": {
        "id": "b63819cc"
      },
      "outputs": [],
      "source": []
    }
  ],
  "metadata": {
    "kernelspec": {
      "display_name": "Python 3 (ipykernel)",
      "language": "python",
      "name": "python3"
    },
    "language_info": {
      "codemirror_mode": {
        "name": "ipython",
        "version": 3
      },
      "file_extension": ".py",
      "mimetype": "text/x-python",
      "name": "python",
      "nbconvert_exporter": "python",
      "pygments_lexer": "ipython3",
      "version": "3.10.9"
    },
    "colab": {
      "provenance": []
    }
  },
  "nbformat": 4,
  "nbformat_minor": 5
}